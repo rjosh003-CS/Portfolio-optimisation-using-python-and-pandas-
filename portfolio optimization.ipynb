{
 "cells": [
  {
   "cell_type": "code",
   "execution_count": 2,
   "metadata": {},
   "outputs": [],
   "source": [
    "import numpy as np\n",
    "\n",
    "# Sample data: expected returns and covariance matrix\n",
    "expected_returns = np.array([0.12, 0.15, 0.10, 0.14])  # Expected returns of assets\n",
    "cov_matrix = np.array([[0.10, 0.03, 0.05, 0.02],  # Covariance matrix\n",
    "                       [0.03, 0.12, 0.06, 0.03],\n",
    "                       [0.05, 0.06, 0.11, 0.04],\n",
    "                       [0.02, 0.03, 0.04, 0.09]])\n"
   ]
  },
  {
   "cell_type": "code",
   "execution_count": 3,
   "metadata": {},
   "outputs": [],
   "source": [
    "\n",
    "# Number of assets in the portfolio\n",
    "num_assets = len(expected_returns)\n",
    "\n",
    "# Define risk-free rate (e.g., Treasury bond yield)\n",
    "risk_free_rate = 0.03\n"
   ]
  },
  {
   "cell_type": "code",
   "execution_count": 6,
   "metadata": {},
   "outputs": [],
   "source": [
    "\n",
    "# Randomly initialize portfolio weights\n",
    "weights = np.random.random(num_assets)\n",
    "weights /= np.sum(weights)\n",
    "\n",
    "# Calculate portfolio expected return\n",
    "portfolio_return = np.sum(weights * expected_returns)\n",
    "\n",
    "# Calculate portfolio volatility (risk)\n",
    "portfolio_stddev = np.sqrt(np.dot(weights.T, np.dot(cov_matrix, weights)))\n",
    "\n",
    "# Calculate the Sharpe ratio\n",
    "sharpe_ratio = (portfolio_return - risk_free_rate) / portfolio_stddev\n"
   ]
  },
  {
   "cell_type": "code",
   "execution_count": 5,
   "metadata": {},
   "outputs": [
    {
     "name": "stdout",
     "output_type": "stream",
     "text": [
      "Portfolio Weights:\n",
      "Asset 1: 0.1075\n",
      "Asset 2: 0.5638\n",
      "Asset 3: 0.1811\n",
      "Asset 4: 0.1475\n",
      "Expected Portfolio Return: 0.1362\n",
      "Portfolio Volatility (Risk): 0.2655\n",
      "Sharpe Ratio: 0.4002\n"
     ]
    }
   ],
   "source": [
    "\n",
    "\n",
    "print(\"Portfolio Weights:\")\n",
    "for i in range(num_assets):\n",
    "    print(f\"Asset {i+1}: {weights[i]:.4f}\")\n",
    "\n",
    "print(f\"Expected Portfolio Return: {portfolio_return:.4f}\")\n",
    "print(f\"Portfolio Volatility (Risk): {portfolio_stddev:.4f}\")\n",
    "print(f\"Sharpe Ratio: {sharpe_ratio:.4f}\")\n"
   ]
  }
 ],
 "metadata": {
  "kernelspec": {
   "display_name": "test_env",
   "language": "python",
   "name": "python3"
  },
  "language_info": {
   "codemirror_mode": {
    "name": "ipython",
    "version": 3
   },
   "file_extension": ".py",
   "mimetype": "text/x-python",
   "name": "python",
   "nbconvert_exporter": "python",
   "pygments_lexer": "ipython3",
   "version": "3.8.13"
  },
  "orig_nbformat": 4
 },
 "nbformat": 4,
 "nbformat_minor": 2
}
